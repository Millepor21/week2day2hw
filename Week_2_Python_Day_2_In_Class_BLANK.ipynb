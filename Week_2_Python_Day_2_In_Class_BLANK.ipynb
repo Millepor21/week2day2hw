{
 "cells": [
  {
   "cell_type": "markdown",
   "metadata": {},
   "source": [
    "# Functions, Scoping, Data Collections 1 & List Comprehensions"
   ]
  },
  {
   "cell_type": "markdown",
   "metadata": {},
   "source": [
    "## Tasks Today:\n",
    "\n",
    "<i>Monday Additions (or, and ... if statements)</i>\n",
    "\n",
    "1) String Manipulation <br>\n",
    " &nbsp;&nbsp;&nbsp;&nbsp; a) strip() <br>\n",
    " &nbsp;&nbsp;&nbsp;&nbsp; b) title() <br>\n",
    "2) Working With Lists <br>\n",
    " &nbsp;&nbsp;&nbsp;&nbsp; a) min() <br>\n",
    " &nbsp;&nbsp;&nbsp;&nbsp; b) max() <br>\n",
    " &nbsp;&nbsp;&nbsp;&nbsp; c) sum() <br>\n",
    " &nbsp;&nbsp;&nbsp;&nbsp; d) sort() <br>\n",
    " &nbsp;&nbsp;&nbsp;&nbsp; e) Copying a List <br>\n",
    " &nbsp;&nbsp;&nbsp;&nbsp; f) 'in' keyword <br>\n",
    " &nbsp;&nbsp;&nbsp;&nbsp; g) 'not in' keyword <br>\n",
    " &nbsp;&nbsp;&nbsp;&nbsp; i) Checking an Empty List <br>\n",
    " &nbsp;&nbsp;&nbsp;&nbsp; j) Removing Instances with a Loop <br>\n",
    "3) List Comprehensions <br>\n",
    "4) Tuples <br>\n",
    " &nbsp;&nbsp;&nbsp;&nbsp; a) sorted() <br>\n",
    "5) Functions <br>\n",
    " &nbsp;&nbsp;&nbsp;&nbsp; a) User-Defined vs. Built-In Functions <br>\n",
    " &nbsp;&nbsp;&nbsp;&nbsp; b) Accepting Parameters <br>\n",
    " &nbsp;&nbsp;&nbsp;&nbsp; c) Default Parameters <br>\n",
    " &nbsp;&nbsp;&nbsp;&nbsp; d) Making an Argument Optional <br>\n",
    " &nbsp;&nbsp;&nbsp;&nbsp; e) Keyword Arguments <br>\n",
    " &nbsp;&nbsp;&nbsp;&nbsp; f) Returning Values <br>\n",
    " &nbsp;&nbsp;&nbsp;&nbsp; g) *args <br>\n",
    " &nbsp;&nbsp;&nbsp;&nbsp; h) Docstring <br>\n",
    " &nbsp;&nbsp;&nbsp;&nbsp; i) Using a User Function in a Loop <br>\n",
    "6) Scope"
   ]
  },
  {
   "cell_type": "markdown",
   "metadata": {},
   "source": [
    "### String Manipulation"
   ]
  },
  {
   "cell_type": "markdown",
   "metadata": {},
   "source": [
    "##### .lstrip()"
   ]
  },
  {
   "cell_type": "code",
   "execution_count": 6,
   "metadata": {},
   "outputs": [
    {
     "name": "stdout",
     "output_type": "stream",
     "text": [
      "Hello Matrix    \n",
      "    Hello Matrix    \n"
     ]
    },
    {
     "data": {
      "text/plain": [
       "'Hello Matrix    '"
      ]
     },
     "execution_count": 6,
     "metadata": {},
     "output_type": "execute_result"
    }
   ],
   "source": [
    "# string.lstrip()\n",
    "\n",
    "greeting_string ='    Hello Matrix    '\n",
    "print(greeting_string.lstrip())\n",
    "print(greeting_string)\n",
    "\n",
    "greeting_string = greeting_string.lstrip()\n",
    "\n",
    "greeting_string"
   ]
  },
  {
   "cell_type": "markdown",
   "metadata": {},
   "source": [
    "##### .rstrip()"
   ]
  },
  {
   "cell_type": "code",
   "execution_count": 7,
   "metadata": {},
   "outputs": [
    {
     "data": {
      "text/plain": [
       "'Hello Matrix'"
      ]
     },
     "execution_count": 7,
     "metadata": {},
     "output_type": "execute_result"
    }
   ],
   "source": [
    "# string.rstrip()\n",
    "greeting_string.rstrip()\n"
   ]
  },
  {
   "cell_type": "markdown",
   "metadata": {},
   "source": [
    "##### .strip()"
   ]
  },
  {
   "cell_type": "code",
   "execution_count": 10,
   "metadata": {},
   "outputs": [
    {
     "data": {
      "text/plain": [
       "'Matrix'"
      ]
     },
     "execution_count": 10,
     "metadata": {},
     "output_type": "execute_result"
    }
   ],
   "source": [
    "# string.strip()\n",
    "greeting_string ='    Hello Matrix    '\n",
    "greeting_string.strip()\n",
    "\n",
    "binary_matrix = '0101011001Matrix0000000111111001'\n",
    "binary_matrix.strip('10')"
   ]
  },
  {
   "cell_type": "markdown",
   "metadata": {},
   "source": [
    "##### .title()"
   ]
  },
  {
   "cell_type": "code",
   "execution_count": 14,
   "metadata": {},
   "outputs": [
    {
     "name": "stdout",
     "output_type": "stream",
     "text": [
      "Seans Workshop Firestore\n",
      "SEANS WORKSHOP FIRESTORE\n"
     ]
    },
    {
     "data": {
      "text/plain": [
       "'Seans workshop firestore'"
      ]
     },
     "execution_count": 14,
     "metadata": {},
     "output_type": "execute_result"
    }
   ],
   "source": [
    "# string.title()\n",
    "week9_string = 'seans workshop firestore'\n",
    "print(week9_string.title())\n",
    "upper_string = week9_string.upper()\n",
    "print(upper_string)\n",
    "upper_string.lower()\n",
    "\n",
    "week9_string.capitalize()"
   ]
  },
  {
   "cell_type": "markdown",
   "metadata": {},
   "source": [
    "### String Exercise <br>\n",
    "<p>Strip all white space and capitalize every name in the list given</p>"
   ]
  },
  {
   "cell_type": "code",
   "execution_count": 27,
   "metadata": {},
   "outputs": [
    {
     "name": "stdout",
     "output_type": "stream",
     "text": [
      "['Connor', 'Max', 'Evan', 'Jordan']\n"
     ]
    }
   ],
   "source": [
    "names = ['    coNNor', 'max', ' EVan ', 'JORDAN']\n",
    "# HINT: You will need to use a for loop for iteration\n",
    "final_names = []\n",
    "for e in names:\n",
    "    final_names.append(e.strip().title())\n",
    "    \n",
    "print(final_names)"
   ]
  },
  {
   "cell_type": "markdown",
   "metadata": {},
   "source": [
    "### Working With Lists"
   ]
  },
  {
   "cell_type": "markdown",
   "metadata": {},
   "source": [
    "##### min()"
   ]
  },
  {
   "cell_type": "code",
   "execution_count": 30,
   "metadata": {},
   "outputs": [
    {
     "data": {
      "text/plain": [
       "'Z'"
      ]
     },
     "execution_count": 30,
     "metadata": {},
     "output_type": "execute_result"
    }
   ],
   "source": [
    "# min(list)\n",
    "min([100,5,9,44])\n",
    "\n",
    "min(['z','y','a','Z'])"
   ]
  },
  {
   "cell_type": "markdown",
   "metadata": {},
   "source": [
    "##### max()"
   ]
  },
  {
   "cell_type": "code",
   "execution_count": 32,
   "metadata": {},
   "outputs": [
    {
     "data": {
      "text/plain": [
       "'a'"
      ]
     },
     "execution_count": 32,
     "metadata": {},
     "output_type": "execute_result"
    }
   ],
   "source": [
    "# max(list)\n",
    "max([10,100,1,199])\n",
    "\n",
    "max(['Z','Y','X','a'])"
   ]
  },
  {
   "cell_type": "markdown",
   "metadata": {},
   "source": [
    "##### sum()"
   ]
  },
  {
   "cell_type": "code",
   "execution_count": 33,
   "metadata": {},
   "outputs": [
    {
     "name": "stdout",
     "output_type": "stream",
     "text": [
      "137\n"
     ]
    },
    {
     "data": {
      "text/plain": [
       "175"
      ]
     },
     "execution_count": 33,
     "metadata": {},
     "output_type": "execute_result"
    }
   ],
   "source": [
    "# sum(list)\n",
    "num_list = [30,19,88]\n",
    "print(sum(num_list))\n",
    "sum([100,50,25])"
   ]
  },
  {
   "cell_type": "markdown",
   "metadata": {},
   "source": [
    "##### sorted()"
   ]
  },
  {
   "cell_type": "code",
   "execution_count": 45,
   "metadata": {},
   "outputs": [
    {
     "name": "stdout",
     "output_type": "stream",
     "text": [
      "[1, 3, 88, 100, 101]\n",
      "[100, 88, 101, 1, 3]\n",
      "['a', 'b', 'c', 'x', 'y', 'z']\n"
     ]
    }
   ],
   "source": [
    "# sorted(list)\n",
    "\n",
    "unsorted_list = [100,88,101,1,3]\n",
    "\n",
    "print(sorted(unsorted_list))\n",
    "\n",
    "print(unsorted_list)\n",
    "\n",
    "\n",
    "print(sorted('abczyx'))"
   ]
  },
  {
   "cell_type": "markdown",
   "metadata": {},
   "source": [
    "##### .sort() <br>\n",
    "<p>Difference between sort and sorted, is that sorted doesn't change original list it returns a copy, while .sort changes the original list</p>"
   ]
  },
  {
   "cell_type": "code",
   "execution_count": 46,
   "metadata": {},
   "outputs": [
    {
     "name": "stdout",
     "output_type": "stream",
     "text": [
      "[100, 88, 101, 1, 3]\n",
      "None  during sort\n",
      "[1, 3, 88, 100, 101]  after sort\n"
     ]
    }
   ],
   "source": [
    "# list.sort()\n",
    "\n",
    "print(unsorted_list)\n",
    "\n",
    "print(unsorted_list.sort(),' during sort')\n",
    "\n",
    "print(unsorted_list,' after sort')\n",
    "# use sorted when you don't want to alter original list, use .sort() when you want to alter original list\n",
    "\n"
   ]
  },
  {
   "cell_type": "markdown",
   "metadata": {},
   "source": [
    "##### Copying a List"
   ]
  },
  {
   "cell_type": "code",
   "execution_count": 50,
   "metadata": {},
   "outputs": [
    {
     "name": "stdout",
     "output_type": "stream",
     "text": [
      "['Lyla', 'Anthony', 'Tom', 'Heather', 'Milad'] \n",
      " ['lyla', 'anthony', 'tom', 'heather', 'milad']\n",
      "['Lyla', 'Anthony', 'Tom', 'Heather', 'Milad'] \n",
      " ['Lyla', 'Anthony', 'Tom', 'Heather', 'Milad']\n"
     ]
    }
   ],
   "source": [
    "# [:] copies a list, doesn't alter original\n",
    "students = ['lyla', 'anthony', 'tom', 'heather', 'milad']\n",
    "students2 = students\n",
    "students_copy = students[:]\n",
    "\n",
    "students_copy is students\n",
    "students2 is students\n",
    "\n",
    "for i, student in enumerate(students_copy):\n",
    "    students_copy[i] = student.title()\n",
    "\n",
    "print(students_copy,'\\n', students)\n",
    "\n",
    "for i in range(len(students2)):\n",
    "    students2[i] = students2[i].title()\n",
    "    \n",
    "print(students2, '\\n', students)"
   ]
  },
  {
   "cell_type": "markdown",
   "metadata": {},
   "source": [
    "##### 'in' keyword"
   ]
  },
  {
   "cell_type": "code",
   "execution_count": 56,
   "metadata": {},
   "outputs": [
    {
     "name": "stdout",
     "output_type": "stream",
     "text": [
      "Welcome to class Mabel\n"
     ]
    }
   ],
   "source": [
    "'Tom' in students\n",
    "\n",
    "if 'Mabel' in students:\n",
    "    print('Welcome to class Mabel')\n",
    "elif 'Mabel' not in students:\n",
    "    students.append('Mabel')\n",
    "    print(students)"
   ]
  },
  {
   "cell_type": "markdown",
   "metadata": {},
   "source": [
    "##### 'not in' keyword"
   ]
  },
  {
   "cell_type": "code",
   "execution_count": 58,
   "metadata": {},
   "outputs": [
    {
     "data": {
      "text/plain": [
       "False"
      ]
     },
     "execution_count": 58,
     "metadata": {},
     "output_type": "execute_result"
    }
   ],
   "source": [
    "# see above\n",
    "\n",
    "'Toby' not in students\n",
    "\n",
    "'Anthony' not in students"
   ]
  },
  {
   "cell_type": "markdown",
   "metadata": {},
   "source": [
    "##### Checking an Empty List"
   ]
  },
  {
   "cell_type": "code",
   "execution_count": 60,
   "metadata": {},
   "outputs": [
    {
     "name": "stdout",
     "output_type": "stream",
     "text": [
      "empty list falsey\n"
     ]
    }
   ],
   "source": [
    "# if l_1: or if l_1 = []\n",
    "if not []:\n",
    "    print('empty list falsey')\n",
    "\n",
    "    \n",
    "empty_list = list()\n",
    "\n",
    "if empty_list:\n",
    "    print('empty list truthy') # not accurate\n",
    "    \n",
    "empty_list = []\n",
    "\n",
    "if not empty_list:\n",
    "    print"
   ]
  },
  {
   "cell_type": "markdown",
   "metadata": {},
   "source": [
    "##### Removing Instances with a Loop"
   ]
  },
  {
   "cell_type": "code",
   "execution_count": 63,
   "metadata": {},
   "outputs": [
    {
     "name": "stdout",
     "output_type": "stream",
     "text": [
      "['ryan', 'dylan', 'dylan', 'sean', 'alex']\n",
      "['ryan', 'dylan', 'dylan', 'sean']\n",
      "removed all alex's\n"
     ]
    }
   ],
   "source": [
    "# while, remove\n",
    "\n",
    "teachers = ['ryan','alex','dylan','dylan','sean','alex']\n",
    "\n",
    "while 'alex' in teachers:\n",
    "    teachers.remove('alex')\n",
    "    print(teachers)\n",
    "\n",
    "print('removed all alexs')"
   ]
  },
  {
   "cell_type": "markdown",
   "metadata": {},
   "source": [
    "### List Exercise <br>\n",
    "<p>Remove all duplicates<br><b>Extra: Create a program that will remove any duplicates from a given list</b></p>"
   ]
  },
  {
   "cell_type": "code",
   "execution_count": 69,
   "metadata": {},
   "outputs": [
    {
     "name": "stdout",
     "output_type": "stream",
     "text": [
      "['connor', 'max', 'evan', 2, 3, 4, 'bob', 'kevin']\n"
     ]
    }
   ],
   "source": [
    "names = ['connor', 'connor', 'bob', 'connor', 'evan', 'max', 'evan', 2, 2, 2, 3, 3, 4, 'bob', 'kevin']\n",
    "i = 0\n",
    "while i < len(names):\n",
    "    if names.count(names[i]) > 1:\n",
    "        names.remove(names[i])\n",
    "    else:\n",
    "        i+=1\n",
    "        \n",
    "print(names)"
   ]
  },
  {
   "cell_type": "code",
   "execution_count": 68,
   "metadata": {},
   "outputs": [
    {
     "name": "stdout",
     "output_type": "stream",
     "text": [
      "['connor', 'bob', 'evan', 'max', 2, 3, 4, 'kevin']\n"
     ]
    }
   ],
   "source": [
    "names = ['connor', 'connor', 'bob', 'connor', 'evan', 'max', 'evan', 2, 2, 2, 3, 3, 4, 'bob', 'kevin']\n",
    "# Hint 1: You will need an append\n",
    "# Hint 2: Using an empty list will make life easier\n",
    "names_no_dupe = []\n",
    "for i in names:\n",
    "    if i not in names_no_dupe:\n",
    "        names_no_dupe.append(i)\n",
    "    elif i in names_no_dupe:\n",
    "        continue\n",
    "print(names_no_dupe)"
   ]
  },
  {
   "cell_type": "markdown",
   "metadata": {},
   "source": [
    "### List Comprehensions <br>\n",
    "<p>Creating a quickly generated list to work with<br>*result*  = [*transform*    *iteration*         *filter*     ]</p>"
   ]
  },
  {
   "cell_type": "markdown",
   "metadata": {},
   "source": [
    "##### In a list comprehension we have a few pieces:\n",
    "1. The first is the counter/ variable - IN this the variable is x\n",
    "2. then we have a transform for the variable\n",
    "3. The finale part of a list comp is called the condition\n",
    "\n",
    "```python\n",
    "    [variable, transform, condition]\n",
    "```"
   ]
  },
  {
   "cell_type": "code",
   "execution_count": 83,
   "metadata": {},
   "outputs": [
    {
     "name": "stdout",
     "output_type": "stream",
     "text": [
      "[0, 1, 2, 3, 4, 5, 6, 7, 8, 9]\n",
      "[0, 1, 4, 9, 16, 25, 36, 49, 64, 81]\n",
      "[0, 1, 8, 9, 64, 25, 216, 49, 512, 81]\n"
     ]
    },
    {
     "data": {
      "text/plain": [
       "[0, 1, 8, 9, 64, 25, 216, 49, 512, 81]"
      ]
     },
     "execution_count": 83,
     "metadata": {},
     "output_type": "execute_result"
    }
   ],
   "source": [
    "# number comprehension\n",
    "num_list = [num for num in range(10)]\n",
    "print(num_list)\n",
    "# With a regular for loop\n",
    "num_list2 = []\n",
    "for num in range(10):\n",
    "    if num % 2 == 0:\n",
    "        num_list2.append(num)\n",
    "    \n",
    "[num for num in range(10) if num % 2 == 0]\n",
    "# IN a list comprehension we have a few pieces:\n",
    "# The first is the counter/ variable - IN this the variable is x\n",
    "# Then we have a transform for the variable \n",
    "# The finale part of a list comp is called the condition\n",
    "#[variable, transform, condition]\n",
    "\n",
    "squared_nums = [num**2 for num in range(10)]\n",
    "\n",
    "print(squared_nums)\n",
    "\n",
    "cubes_and_squares = []\n",
    "for num in range(10):\n",
    "    cubes_and_squares.append(num**2 if num % 2 == 1 else num**3)\n",
    "#     if num % 2 == 1:\n",
    "#         cubes_and_squares.append(num**2)\n",
    "#     else:\n",
    "#         cubes_and_squares.append(num**3)\n",
    "print(cubes_and_squares)\n",
    "[num**2 if num % 2 == 1 else num**3 for num in range(10)]"
   ]
  },
  {
   "cell_type": "markdown",
   "metadata": {},
   "source": [
    "There are a few benefits to using List comprehensions. The most obvious would be that we now have shorter code to work with instead of using 3+ lines of code in the for loop variant.\n",
    "\n",
    "Another is an added benefit to memory usage. Since the list's memory is allocated first before adding elements to it, we don't have to resize the list once we add elements to it.\n",
    "\n",
    "Lastly, list comprehensions are considered the \"pythonic\" way to write code by the PEP8 standards (Python Style Guide)"
   ]
  },
  {
   "cell_type": "code",
   "execution_count": null,
   "metadata": {},
   "outputs": [],
   "source": [
    "# square number comprehension\n",
    "# see above\n"
   ]
  },
  {
   "cell_type": "code",
   "execution_count": 86,
   "metadata": {},
   "outputs": [
    {
     "data": {
      "text/plain": [
       "['M', 'M']"
      ]
     },
     "execution_count": 86,
     "metadata": {},
     "output_type": "execute_result"
    }
   ],
   "source": [
    "# string comprehension\n",
    "students\n",
    "students_first_letters = [student[0] for student in students]\n",
    "student_ms = [student[0] for student in students if student[0] == 'M']\n"
   ]
  },
  {
   "cell_type": "code",
   "execution_count": null,
   "metadata": {},
   "outputs": [],
   "source": []
  },
  {
   "cell_type": "code",
   "execution_count": null,
   "metadata": {},
   "outputs": [],
   "source": []
  },
  {
   "cell_type": "markdown",
   "metadata": {},
   "source": [
    "### Tuples <br>\n",
    "<p><b>Defined as an immutable list</b></p><br>Seperated by commas using parenthesis"
   ]
  },
  {
   "cell_type": "code",
   "execution_count": 118,
   "metadata": {},
   "outputs": [
    {
     "name": "stdout",
     "output_type": "stream",
     "text": [
      "<class 'tuple'>\n",
      "<class 'tuple'>\n",
      "<class 'tuple'>\n",
      "<class 'tuple'>\n",
      "(1, 3, 4, (3, 4, 5))\n"
     ]
    },
    {
     "data": {
      "text/plain": [
       "tuple"
      ]
     },
     "execution_count": 118,
     "metadata": {},
     "output_type": "execute_result"
    }
   ],
   "source": [
    "my_tup = (1,2,'abc','foo',[2,3,4])\n",
    "\n",
    "print(type(my_tup))\n",
    "\n",
    "my_tup2 = 1,2,3,5,'foo','bar'\n",
    "\n",
    "isinstance(my_tup2, tuple)\n",
    "\n",
    "my_tup3 = tuple((1,2,3,4,6,9))\n",
    "\n",
    "print(type(my_tup3))\n",
    "\n",
    "tup4 = tuple()\n",
    "\n",
    "print(type(tup4))\n",
    "\n",
    "tup5 = 1,\n",
    "\n",
    "print(type(tup5))\n",
    "\n",
    "tup6 = 1,3,4,(3,4,5)\n",
    "\n",
    "print(tup6)\n",
    "type(tup6[-1])"
   ]
  },
  {
   "cell_type": "code",
   "execution_count": 100,
   "metadata": {},
   "outputs": [
    {
     "name": "stdout",
     "output_type": "stream",
     "text": [
      "(1, 2, 'abc', 'foo', [2, 3, 4])\n",
      "(1, 3, 4, (3, 4, 5))\n"
     ]
    },
    {
     "data": {
      "text/plain": [
       "2"
      ]
     },
     "execution_count": 100,
     "metadata": {},
     "output_type": "execute_result"
    }
   ],
   "source": [
    "# .count() <tuple>.count(<element we want to count>)\n",
    "# .index() <tuple>.index(<element we want the index of>)\n",
    "\n",
    "print(my_tup)\n",
    "my_tup.count(2)\n",
    "\n",
    "(1,1,1,0,6,1).count(1)\n",
    "\n",
    "print(tup6)\n",
    "tup6.index(4)"
   ]
  },
  {
   "cell_type": "markdown",
   "metadata": {},
   "source": [
    "##### sorted()"
   ]
  },
  {
   "cell_type": "code",
   "execution_count": 106,
   "metadata": {},
   "outputs": [
    {
     "name": "stdout",
     "output_type": "stream",
     "text": [
      "['a', 'b', 'y', 'z']\n",
      "('a', 'b', 'y', 'z')\n"
     ]
    }
   ],
   "source": [
    "sorted((9,1,9,4,100,5))\n",
    "\n",
    "string_tuple = 'a','z','y','b'\n",
    "\n",
    "sorted_letters = sorted(string_tuple)\n",
    "\n",
    "print(sorted_letters_list)\n",
    "\n",
    "sorted_tuple = tuple(sorted_letters_list)\n",
    "\n",
    "print(sorted_tuple)"
   ]
  },
  {
   "cell_type": "markdown",
   "metadata": {},
   "source": [
    "##### Adding values to a Tuple"
   ]
  },
  {
   "cell_type": "code",
   "execution_count": 119,
   "metadata": {},
   "outputs": [
    {
     "data": {
      "text/plain": [
       "(1, 2, 'abc', 'foo', [2, 3, 4], False)"
      ]
     },
     "execution_count": 119,
     "metadata": {},
     "output_type": "execute_result"
    }
   ],
   "source": [
    "my_tup = my_tup + (False,)\n",
    "\n",
    "my_tup"
   ]
  },
  {
   "cell_type": "code",
   "execution_count": 117,
   "metadata": {},
   "outputs": [
    {
     "name": "stdout",
     "output_type": "stream",
     "text": [
      "(1, 2, 3, 4, 5, 7)\n"
     ]
    }
   ],
   "source": [
    "new_tup = 1,2,3\n",
    "another_tup = 4,5,7\n",
    "\n",
    "new_tup + another_tup\n",
    "\n",
    "new_tup += another_tup\n",
    "\n",
    "print(new_tup)"
   ]
  },
  {
   "cell_type": "markdown",
   "metadata": {},
   "source": [
    "## Functions"
   ]
  },
  {
   "cell_type": "markdown",
   "metadata": {},
   "source": [
    "##### User-Defined vs. Built-In Functions"
   ]
  },
  {
   "cell_type": "code",
   "execution_count": 123,
   "metadata": {},
   "outputs": [
    {
     "name": "stdout",
     "output_type": "stream",
     "text": [
      "hello world\n",
      "hello world\n",
      "<function greeting at 0x000002B02B417920>\n"
     ]
    }
   ],
   "source": [
    "# max()\n",
    "# sum()\n",
    "# min()\n",
    "# print()\n",
    "# range()\n",
    "# help()\n",
    "\n",
    "def greeting():\n",
    "    return 'hello world'\n",
    "    \n",
    "print(greeting())\n",
    "print(greeting())\n",
    "\n",
    "print(greeting)"
   ]
  },
  {
   "cell_type": "markdown",
   "metadata": {},
   "source": [
    "##### Accepting Parameters"
   ]
  },
  {
   "cell_type": "code",
   "execution_count": 130,
   "metadata": {},
   "outputs": [
    {
     "name": "stdout",
     "output_type": "stream",
     "text": [
      "test\n",
      "Hello Porter Millerwright\n",
      "test\n",
      "Hello Sean Currie\n"
     ]
    }
   ],
   "source": [
    "def custom_greeting(first_name, last_name):\n",
    "    print('test')\n",
    "    return f'Hello {first_name.title()} {last_name.title()}'\n",
    "\n",
    "print(custom_greeting('Porter', 'MillerWright'))\n",
    "print(custom_greeting('sean', 'currie'))"
   ]
  },
  {
   "cell_type": "markdown",
   "metadata": {},
   "source": [
    "##### Default Parameters"
   ]
  },
  {
   "cell_type": "code",
   "execution_count": 135,
   "metadata": {},
   "outputs": [
    {
     "data": {
      "text/plain": [
       "'Welcome to CT your instructor is Dylan Smith'"
      ]
     },
     "execution_count": 135,
     "metadata": {},
     "output_type": "execute_result"
    }
   ],
   "source": [
    "def introduce_instructor(last_name, first_name='dylan'):\n",
    "    return f'Welcome to CT your instructor is {first_name.title()} {last_name.title()}'\n",
    "\n",
    "introduce_instructor('smith')"
   ]
  },
  {
   "cell_type": "markdown",
   "metadata": {},
   "source": [
    "##### Making an Argument Optional"
   ]
  },
  {
   "cell_type": "code",
   "execution_count": 143,
   "metadata": {},
   "outputs": [
    {
     "data": {
      "text/plain": [
       "'Greetings dylan smith'"
      ]
     },
     "execution_count": 143,
     "metadata": {},
     "output_type": "execute_result"
    }
   ],
   "source": [
    "def greeting_full_name(first_name, last_name, middle_name=''):\n",
    "    return f'Greetings {first_name}{f\" {middle_name}\" if middle_name else \"\"} {last_name}'\n",
    "\n",
    "greeting_full_name('dylan','smith')"
   ]
  },
  {
   "cell_type": "markdown",
   "metadata": {},
   "source": [
    "##### Keyword Arguments"
   ]
  },
  {
   "cell_type": "code",
   "execution_count": 144,
   "metadata": {},
   "outputs": [
    {
     "data": {
      "text/plain": [
       "'Greetings dylan smith'"
      ]
     },
     "execution_count": 144,
     "metadata": {},
     "output_type": "execute_result"
    }
   ],
   "source": [
    "# last_name='Max', first_name='Smith' in the function call\n",
    "\n",
    "greeting_full_name(last_name='smith',first_name='dylan')"
   ]
  },
  {
   "cell_type": "markdown",
   "metadata": {},
   "source": [
    "# Creating a start, stop, step function"
   ]
  },
  {
   "cell_type": "code",
   "execution_count": 147,
   "metadata": {},
   "outputs": [
    {
     "name": "stdout",
     "output_type": "stream",
     "text": [
      "[1, 3, 5, 7, 9, 11, 13, 15, 17, 19]\n"
     ]
    }
   ],
   "source": [
    "def my_range(stop,start=0,step=1):\n",
    "    range_nums = []\n",
    "    while start < stop:\n",
    "        range_nums.append(start)\n",
    "        start+=step\n",
    "    return range_nums\n",
    "\n",
    "print(my_range(20,1,2))\n"
   ]
  },
  {
   "cell_type": "code",
   "execution_count": 148,
   "metadata": {},
   "outputs": [
    {
     "name": "stdout",
     "output_type": "stream",
     "text": [
      "[0, 1, 2, 3, 4, 5, 6, 7, 8, 9, 10, 11, 12, 13, 14, 15, 16, 17, 18, 19, 20, 21, 22, 23, 24, 25, 26, 27, 28, 29]\n"
     ]
    }
   ],
   "source": [
    "def range_golf(stop,start=0,step=1):\n",
    "    return [num for num in range(start,stop,step)]\n",
    "# doesn't really work because ^\n",
    "print(range_golf(30))"
   ]
  },
  {
   "cell_type": "markdown",
   "metadata": {},
   "source": [
    "##### Returning Values"
   ]
  },
  {
   "cell_type": "code",
   "execution_count": 153,
   "metadata": {},
   "outputs": [
    {
     "name": "stdout",
     "output_type": "stream",
     "text": [
      "[0, 1, 2, 3, 4, 5, 6, 7, 8, 9, 10, 11, 12, 13, 14, 15, 16, 17, 18, 19]\n",
      "None  function call\n"
     ]
    }
   ],
   "source": [
    "def my_range2(stop,start=0,step=1):\n",
    "    range_nums = []\n",
    "    while start < stop:\n",
    "        range_nums.append(start)\n",
    "        start+=step\n",
    "    print(range_nums)\n",
    "    \n",
    "print(my_range2(20),' function call')"
   ]
  },
  {
   "cell_type": "markdown",
   "metadata": {},
   "source": [
    "##### *args"
   ]
  },
  {
   "cell_type": "code",
   "execution_count": 159,
   "metadata": {},
   "outputs": [
    {
     "name": "stdout",
     "output_type": "stream",
     "text": [
      "sean\n",
      "tesla\n",
      "pool master\n",
      "dart champion\n",
      "firebase wizard\n",
      "mario creator\n"
     ]
    }
   ],
   "source": [
    "def display_info(name, *args):\n",
    "    \"\"\"\n",
    "    print name\n",
    "    iterate through args and display\n",
    "    \"\"\"\n",
    "    print(name)\n",
    "    if args:\n",
    "        for arg in args:\n",
    "            print(arg)\n",
    "            \n",
    "display_info('sean','tesla','pool master','dart champion','firebase wizard','mario creator')"
   ]
  },
  {
   "cell_type": "markdown",
   "metadata": {},
   "source": [
    "##### Docstring"
   ]
  },
  {
   "cell_type": "code",
   "execution_count": 160,
   "metadata": {},
   "outputs": [
    {
     "name": "stdout",
     "output_type": "stream",
     "text": [
      "Help on function display_info in module __main__:\n",
      "\n",
      "display_info(name, *args)\n",
      "    print name\n",
      "    iterate through args and display\n",
      "\n"
     ]
    }
   ],
   "source": [
    "help(display_info)"
   ]
  },
  {
   "cell_type": "markdown",
   "metadata": {},
   "source": [
    "##### Using a User Function in a Loop"
   ]
  },
  {
   "cell_type": "code",
   "execution_count": 177,
   "metadata": {},
   "outputs": [
    {
     "name": "stdout",
     "output_type": "stream",
     "text": [
      "would you like to [a]dd [r]emove [s]how [q]uit: a\n",
      "would you like to [a]dd [r]emove [s]how [q]uit: r\n",
      "would you like to [a]dd [r]emove [s]how [q]uit: s\n",
      "would you like to [a]dd [r]emove [s]how [q]uit: q\n",
      "That is all for lecture\n"
     ]
    }
   ],
   "source": [
    "def get_user_choice():\n",
    "    return input(\"would you like to [a]dd [r]emove [s]how [q]uit: \")\n",
    "\n",
    "while True:\n",
    "    if get_user_choice() == \"q\":\n",
    "        print('That is all for lecture')\n",
    "        break"
   ]
  },
  {
   "cell_type": "markdown",
   "metadata": {},
   "source": [
    "## Function Exercise <br>\n",
    "<p>Write a function that loops through a list of first_names and a list of last_names, combines the two and return a list of full_names</p>"
   ]
  },
  {
   "cell_type": "code",
   "execution_count": 176,
   "metadata": {},
   "outputs": [
    {
     "name": "stdout",
     "output_type": "stream",
     "text": [
      "John Smith\n",
      "Evan Smith\n",
      "Jordan Williams\n",
      "Max Bell\n"
     ]
    }
   ],
   "source": [
    "first_name = ['John', 'Evan', 'Jordan', 'Max']\n",
    "last_name = ['Smith', 'Smith', 'Williams', 'Bell']\n",
    "full_name = []\n",
    "def full_names(first_names, last_names):\n",
    "    for name in range(len(first_name)):\n",
    "        print(first_names[name], last_names[name])\n",
    "        \n",
    "full_names(first_name, last_name)\n",
    "# Output: ['John Smith', 'Evan Smith', 'Jordan Williams', 'Max Bell']"
   ]
  },
  {
   "cell_type": "markdown",
   "metadata": {},
   "source": [
    "## Scope <br>\n",
    "<p>Scope refers to the ability to access variables, different types of scope include:<br>a) Global<br>b) Function (local)<br>c) Class (local)</p>"
   ]
  },
  {
   "cell_type": "code",
   "execution_count": null,
   "metadata": {},
   "outputs": [],
   "source": []
  },
  {
   "cell_type": "markdown",
   "metadata": {},
   "source": [
    "# Exercises"
   ]
  },
  {
   "cell_type": "markdown",
   "metadata": {},
   "source": [
    "## Exercise 1 <br>\n",
    "<p>Given a list as a parameter,write a function that returns a list of numbers that are less than ten</b></i></p><br>\n",
    "<p> For example: Say your input parameter to the function is [1,11,14,5,8,9]...Your output should [1,5,8,9]</p>"
   ]
  },
  {
   "cell_type": "code",
   "execution_count": 181,
   "metadata": {},
   "outputs": [
    {
     "name": "stdout",
     "output_type": "stream",
     "text": [
      "[1, 5, 8, 9]\n"
     ]
    }
   ],
   "source": [
    "# Use the following list - [1,11,14,5,8,9]\n",
    "out = []\n",
    "l_1 = [1,11,14,5,8,9]\n",
    "def list_u10(l):\n",
    "    for i in l:\n",
    "        if i < 10:\n",
    "            out.append(i)\n",
    "    print(out)\n",
    "list_u10(l_1)"
   ]
  },
  {
   "cell_type": "code",
   "execution_count": 186,
   "metadata": {},
   "outputs": [
    {
     "name": "stdout",
     "output_type": "stream",
     "text": [
      "[1, 5, 8, 9]\n"
     ]
    }
   ],
   "source": [
    "# Exercise 1, ec:\n",
    "monsters = [1,11,14,5,8,9]\n",
    "fightable_monsters = []\n",
    "def fight_mon(monster):\n",
    "    for i in monsters:\n",
    "        if i < 10:\n",
    "            fightable_monsters.append(i)\n",
    "    print(fightable_monsters)\n",
    "\n",
    "fight_mon(monsters)"
   ]
  },
  {
   "cell_type": "markdown",
   "metadata": {},
   "source": [
    "## Exercise 2 <br>\n",
    "<p>Write a function that takes in two lists and returns the two lists merged together and sorted<br>\n",
    "<b><i>Hint: You can use the .sort() method</i></b></p>"
   ]
  },
  {
   "cell_type": "code",
   "execution_count": 182,
   "metadata": {},
   "outputs": [
    {
     "name": "stdout",
     "output_type": "stream",
     "text": [
      "[1, 2, 3, 3, 4, 4, 5, 5, 6, 6, 7, 8, 10]\n"
     ]
    }
   ],
   "source": [
    "l_1 = [1,2,3,4,5,6]\n",
    "l_2 = [3,4,5,6,7,8,10]\n",
    "\n",
    "def sorted_l(l1, l2):\n",
    "    lf = l1 + l2\n",
    "    lf.sort()\n",
    "    print(lf)\n",
    "    \n",
    "sorted_l(l_1, l_2)"
   ]
  },
  {
   "cell_type": "code",
   "execution_count": 224,
   "metadata": {
    "scrolled": true
   },
   "outputs": [
    {
     "data": {
      "text/plain": [
       "[10, 8, 7, 6, 6, 5, 5, 4]"
      ]
     },
     "execution_count": 224,
     "metadata": {},
     "output_type": "execute_result"
    }
   ],
   "source": [
    "# Exercise 2, ec:\n",
    "l_1 = [1, 2, 3, 4, 5, 6]\n",
    "l_2 = [3, 4, 5, 6, 7, 8, 10]\n",
    "max_inventory_size = 8\n",
    "\n",
    "def sort_invent(l1,l2,max_inventory_size):\n",
    "    lf = l1 + l2\n",
    "    lf.sort(reverse=True)\n",
    "    return lf[:max_inventory_size]\n",
    "    \n",
    "sort_invent(l_1,l_2,max_inventory_size)    "
   ]
  }
 ],
 "metadata": {
  "kernelspec": {
   "display_name": "Python 3 (ipykernel)",
   "language": "python",
   "name": "python3"
  },
  "language_info": {
   "codemirror_mode": {
    "name": "ipython",
    "version": 3
   },
   "file_extension": ".py",
   "mimetype": "text/x-python",
   "name": "python",
   "nbconvert_exporter": "python",
   "pygments_lexer": "ipython3",
   "version": "3.11.4"
  }
 },
 "nbformat": 4,
 "nbformat_minor": 2
}
